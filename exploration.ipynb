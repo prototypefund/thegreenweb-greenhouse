{
  "cells": [
    {
      "cell_type": "code",
      "source": [
        "fs.promises"
      ],
      "outputs": [
        {
          "output_type": "execute_result",
          "execution_count": 25,
          "data": {
            "text/plain": [
              "{ access: [AsyncFunction: access],\n",
              "  copyFile: [AsyncFunction: copyFile],\n",
              "  open: [AsyncFunction: open],\n",
              "  read: [AsyncFunction: read],\n",
              "  write: [AsyncFunction: write],\n",
              "  rename: [AsyncFunction: rename],\n",
              "  truncate: [AsyncFunction: truncate],\n",
              "  ftruncate: [AsyncFunction: ftruncate],\n",
              "  rmdir: [AsyncFunction: rmdir],\n",
              "  fdatasync: [AsyncFunction: fdatasync],\n",
              "  fsync: [AsyncFunction: fsync],\n",
              "  mkdir: [AsyncFunction: mkdir],\n",
              "  readdir: [AsyncFunction: readdir],\n",
              "  readlink: [AsyncFunction: readlink],\n",
              "  symlink: [AsyncFunction: symlink],\n",
              "  fstat: [AsyncFunction: fstat],\n",
              "  lstat: [AsyncFunction: lstat],\n",
              "  stat: [AsyncFunction: stat],\n",
              "  link: [AsyncFunction: link],\n",
              "  unlink: [AsyncFunction: unlink],\n",
              "  fchmod: [AsyncFunction: fchmod],\n",
              "  chmod: [AsyncFunction: chmod],\n",
              "  lchmod: [AsyncFunction: lchmod],\n",
              "  lchown: [AsyncFunction: lchown],\n",
              "  fchown: [AsyncFunction: fchown],\n",
              "  chown: [AsyncFunction: chown],\n",
              "  utimes: [AsyncFunction: utimes],\n",
              "  futimes: [AsyncFunction: futimes],\n",
              "  realpath: [AsyncFunction: realpath],\n",
              "  mkdtemp: [AsyncFunction: mkdtemp],\n",
              "  writeFile: [AsyncFunction: writeFile],\n",
              "  appendFile: [AsyncFunction: appendFile],\n",
              "  readFile: [AsyncFunction: readFile] }"
            ]
          },
          "metadata": {}
        }
      ],
      "execution_count": 25,
      "metadata": {
        "collapsed": false,
        "outputHidden": false,
        "inputHidden": false
      }
    },
    {
      "cell_type": "code",
      "source": [
        "\n",
        "// const util = require('util')\n",
        "// const {readFile} = require('fs')\n",
        "\n",
        "let readFileAsynco = util.promisify(readFile)\n",
        "\n",
        "process.chdir(\"/Users/chrisadams/Code/tgwf/greenhouse\")\n",
        "\n",
        "async function main () {\n",
        "  const result = await readFileAsynco('www.thegreenwebfoundation.org_2019-03-23_21-40-49-0.devtoolslog.json', { encoding: \"utf8\" })\n",
        "  return result\n",
        "}\n",
        "\nmain()"
      ],
      "outputs": [
        {
          "output_type": "error",
          "ename": "SyntaxError",
          "evalue": "Identifier 'readFileAsynco' has already been declared",
          "traceback": [
            "evalmachine.<anonymous>:1",
            "",
            "",
            "",
            "SyntaxError: Identifier 'readFileAsynco' has already been declared",
            "    at evalmachine.<anonymous>:1:1",
            "    at Script.runInThisContext (vm.js:91:20)",
            "    at Object.runInThisContext (vm.js:298:38)",
            "    at run ([eval]:1054:15)",
            "    at onRunRequest ([eval]:888:18)",
            "    at onMessage ([eval]:848:13)",
            "    at process.emit (events.js:182:13)",
            "    at emit (internal/child_process.js:811:12)",
            "    at process._tickCallback (internal/process/next_tick.js:63:19)"
          ]
        }
      ],
      "execution_count": 27,
      "metadata": {
        "collapsed": false,
        "outputHidden": false,
        "inputHidden": false
      }
    },
    {
      "cell_type": "code",
      "source": [
        "require('fs').promises"
      ],
      "outputs": [
        {
          "output_type": "execute_result",
          "execution_count": 3,
          "data": {
            "text/plain": [
              "{ access: [AsyncFunction: access],\n",
              "  copyFile: [AsyncFunction: copyFile],\n",
              "  open: [AsyncFunction: open],\n",
              "  read: [AsyncFunction: read],\n",
              "  write: [AsyncFunction: write],\n",
              "  rename: [AsyncFunction: rename],\n",
              "  truncate: [AsyncFunction: truncate],\n",
              "  ftruncate: [AsyncFunction: ftruncate],\n",
              "  rmdir: [AsyncFunction: rmdir],\n",
              "  fdatasync: [AsyncFunction: fdatasync],\n",
              "  fsync: [AsyncFunction: fsync],\n",
              "  mkdir: [AsyncFunction: mkdir],\n",
              "  readdir: [AsyncFunction: readdir],\n",
              "  readlink: [AsyncFunction: readlink],\n",
              "  symlink: [AsyncFunction: symlink],\n",
              "  fstat: [AsyncFunction: fstat],\n",
              "  lstat: [AsyncFunction: lstat],\n",
              "  stat: [AsyncFunction: stat],\n",
              "  link: [AsyncFunction: link],\n",
              "  unlink: [AsyncFunction: unlink],\n",
              "  fchmod: [AsyncFunction: fchmod],\n",
              "  chmod: [AsyncFunction: chmod],\n",
              "  lchmod: [AsyncFunction: lchmod],\n",
              "  lchown: [AsyncFunction: lchown],\n",
              "  fchown: [AsyncFunction: fchown],\n",
              "  chown: [AsyncFunction: chown],\n",
              "  utimes: [AsyncFunction: utimes],\n",
              "  futimes: [AsyncFunction: futimes],\n",
              "  realpath: [AsyncFunction: realpath],\n",
              "  mkdtemp: [AsyncFunction: mkdtemp],\n",
              "  writeFile: [AsyncFunction: writeFile],\n",
              "  appendFile: [AsyncFunction: appendFile],\n",
              "  readFile: [AsyncFunction: readFile] }"
            ]
          },
          "metadata": {}
        },
        {
          "output_type": "stream",
          "name": "stderr",
          "text": [
            "(node:59478) ExperimentalWarning: The fs.promises API is experimental\n"
          ]
        }
      ],
      "execution_count": 3,
      "metadata": {
        "collapsed": false,
        "outputHidden": false,
        "inputHidden": false
      }
    },
    {
      "cell_type": "code",
      "source": [
        "const fs = require('fs').promises"
      ],
      "outputs": [],
      "execution_count": 4,
      "metadata": {
        "collapsed": false,
        "outputHidden": false,
        "inputHidden": false
      }
    },
    {
      "cell_type": "code",
      "source": [],
      "outputs": [
        {
          "output_type": "error",
          "ename": "Error",
          "evalue": "ENOENT: no such file or directory, open './www.thegreenwebfoundation.org_2019-03-23_21-40-49-0.trace.json'",
          "traceback": [
            "Error: ENOENT: no such file or directory, open './www.thegreenwebfoundation.org_2019-03-23_21-40-49-0.trace.json'"
          ]
        }
      ],
      "execution_count": 7,
      "metadata": {
        "collapsed": false,
        "outputHidden": false,
        "inputHidden": false
      }
    },
    {
      "cell_type": "code",
      "source": [
        "process.cwd()"
      ],
      "outputs": [
        {
          "output_type": "execute_result",
          "execution_count": 10,
          "data": {
            "text/plain": [
              "'/'"
            ]
          },
          "metadata": {}
        }
      ],
      "execution_count": 10,
      "metadata": {
        "collapsed": false,
        "outputHidden": false,
        "inputHidden": false
      }
    },
    {
      "cell_type": "code",
      "source": [
        "process.chdir('/Users/chrisadams/Code/tgwf/greenhouse')\n"
      ],
      "outputs": [],
      "execution_count": 11,
      "metadata": {
        "collapsed": false,
        "outputHidden": false,
        "inputHidden": false
      }
    },
    {
      "cell_type": "code",
      "source": [
        "process.cwd()"
      ],
      "outputs": [
        {
          "output_type": "execute_result",
          "execution_count": 12,
          "data": {
            "text/plain": [
              "'/Users/chrisadams/Code/tgwf/greenhouse'"
            ]
          },
          "metadata": {}
        }
      ],
      "execution_count": 12,
      "metadata": {
        "collapsed": false,
        "outputHidden": false,
        "inputHidden": false
      }
    },
    {
      "cell_type": "code",
      "source": [
        "fs.readFile('./www.thegreenwebfoundation.org_2019-03-23_21-40-49-0.trace.json').then(function(filo) { return filo })"
      ],
      "outputs": [
        {
          "output_type": "execute_result",
          "execution_count": 25,
          "data": {
            "text/plain": [
              "<Buffer 7b 0a 22 74 72 61 63 65 45 76 65 6e 74 73 22 3a 20 5b 0a 20 20 7b 22 70 69 64 22 3a 35 38 37 33 33 2c 22 74 69 64 22 3a 37 37 35 2c 22 74 73 22 3a 32 ... >"
            ]
          },
          "metadata": {}
        }
      ],
      "execution_count": 25,
      "metadata": {
        "collapsed": false,
        "outputHidden": false,
        "inputHidden": false
      }
    },
    {
      "cell_type": "code",
      "source": [
        "const fs = require('fs').promises;"
      ],
      "outputs": [
        {
          "output_type": "error",
          "ename": "SyntaxError",
          "evalue": "Identifier 'fs' has already been declared",
          "traceback": [
            "evalmachine.<anonymous>:1",
            "const fs = require('fs').promises;",
            "^",
            "",
            "SyntaxError: Identifier 'fs' has already been declared",
            "    at evalmachine.<anonymous>:1:1",
            "    at Script.runInThisContext (vm.js:91:20)",
            "    at Object.runInThisContext (vm.js:298:38)",
            "    at run ([eval]:1054:15)",
            "    at onRunRequest ([eval]:888:18)",
            "    at onMessage ([eval]:848:13)",
            "    at process.emit (events.js:182:13)",
            "    at emit (internal/child_process.js:811:12)",
            "    at process._tickCallback (internal/process/next_tick.js:63:19)"
          ]
        }
      ],
      "execution_count": 32,
      "metadata": {
        "collapsed": false,
        "outputHidden": false,
        "inputHidden": false
      }
    },
    {
      "cell_type": "code",
      "source": [
        "process.version"
      ],
      "outputs": [
        {
          "output_type": "execute_result",
          "execution_count": 33,
          "data": {
            "text/plain": [
              "'v10.2.0'"
            ]
          },
          "metadata": {}
        }
      ],
      "execution_count": 33,
      "metadata": {
        "collapsed": false,
        "outputHidden": false,
        "inputHidden": false
      }
    },
    {
      "cell_type": "code",
      "source": [],
      "outputs": [],
      "execution_count": null,
      "metadata": {
        "collapsed": false,
        "outputHidden": false,
        "inputHidden": false
      }
    }
  ],
  "metadata": {
    "kernel_info": {
      "name": "node_nteract"
    },
    "language_info": {
      "name": "javascript",
      "version": "10.2.0",
      "mimetype": "application/javascript",
      "file_extension": ".js"
    },
    "kernelspec": {
      "name": "node_nteract",
      "language": "javascript",
      "display_name": "Node.js (nteract)"
    },
    "nteract": {
      "version": "0.12.3"
    }
  },
  "nbformat": 4,
  "nbformat_minor": 4
}